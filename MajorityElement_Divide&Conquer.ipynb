{
  "nbformat": 4,
  "nbformat_minor": 0,
  "metadata": {
    "colab": {
      "name": "MajorityElement-Divide&Conquer.ipynb",
      "provenance": [],
      "authorship_tag": "ABX9TyP8niU1AxJN8SQ8viKC6LWW",
      "include_colab_link": true
    },
    "kernelspec": {
      "name": "python3",
      "display_name": "Python 3"
    },
    "language_info": {
      "name": "python"
    }
  },
  "cells": [
    {
      "cell_type": "markdown",
      "metadata": {
        "id": "view-in-github",
        "colab_type": "text"
      },
      "source": [
        "<a href=\"https://colab.research.google.com/github/ThePain99/Complejidad-Algoritmica/blob/main/MajorityElement_Divide%26Conquer.ipynb\" target=\"_parent\"><img src=\"https://colab.research.google.com/assets/colab-badge.svg\" alt=\"Open In Colab\"/></a>"
      ]
    },
    {
      "cell_type": "code",
      "metadata": {
        "colab": {
          "base_uri": "https://localhost:8080/"
        },
        "id": "iNdZqSE-0mtx",
        "outputId": "2d666606-4139-428d-de62-5415491ed08f"
      },
      "source": [
        "nums = [1, 1, 1, 2, 2, 3, 3, 3, 2, 5, 5, 5, 3, 2]\n",
        "\n",
        "def majorityElement(nums, lo=0, hi=None):\n",
        "        def majority_element_rec(lo, hi):\n",
        "            # base case; the only element in an array of size 1 is the majority\n",
        "            # element.\n",
        "            if lo == hi:\n",
        "                return nums[lo]\n",
        "\n",
        "            # recurse on left and right halves of this slice.\n",
        "            mid = (hi-lo)//2 + lo\n",
        "            left = majority_element_rec(lo, mid)\n",
        "            right = majority_element_rec(mid+1, hi)\n",
        "\n",
        "            # if the two halves agree on the majority element, return it.\n",
        "            if left == right:\n",
        "                return left\n",
        "\n",
        "            # otherwise, count each element and return the \"winner\".\n",
        "            left_count = sum(1 for i in range(lo, hi+1) if nums[i] == left)\n",
        "            right_count = sum(1 for i in range(lo, hi+1) if nums[i] == right)\n",
        "\n",
        "            return left if left_count > right_count else right\n",
        "\n",
        "        return majority_element_rec(0, len(nums)-1)\n",
        "        print(majorityElement())\n",
        "\n",
        "majorityElement(nums)"
      ],
      "execution_count": null,
      "outputs": [
        {
          "output_type": "execute_result",
          "data": {
            "text/plain": [
              "5"
            ]
          },
          "metadata": {},
          "execution_count": 18
        }
      ]
    }
  ]
}